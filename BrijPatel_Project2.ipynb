{
 "cells": [
  {
   "cell_type": "markdown",
   "id": "b3e181bb",
   "metadata": {},
   "source": [
    "## Import Libraries"
   ]
  },
  {
   "cell_type": "code",
   "execution_count": 1,
   "id": "5a6be717",
   "metadata": {},
   "outputs": [],
   "source": [
    "import pandas as pd\n",
    "import numpy as np\n",
    "from sklearn.model_selection import train_test_split\n",
    "from sklearn import metrics"
   ]
  },
  {
   "cell_type": "code",
   "execution_count": 2,
   "id": "cc53dd4b",
   "metadata": {},
   "outputs": [],
   "source": [
    "columns = ['word_freq_make', 'word_freq_address', 'word_freq_all', 'word_freq_3d', 'word_freq_our', 'word_freq_over', 'word_freq_remove', 'word_freq_internet', 'word_freq_order', 'word_freq_mail', 'word_freq_receive', 'word_freq_will', 'word_freq_people', 'word_freq_report', 'word_freq_addresses', 'word_freq_free', 'word_freq_business', 'word_freq_email', 'word_freq_you', 'word_freq_credit', 'word_freq_your', 'word_freq_font', 'word_freq_000', 'word_freq_money', 'word_freq_hp', 'word_freq_hpl', 'word_freq_george', 'word_freq_650', 'word_freq_lab', 'word_freq_labs', 'word_freq_telnet', 'word_freq_857', 'word_freq_data', 'word_freq_415', 'word_freq_85', 'word_freq_technology', 'word_freq_1999', 'word_freq_parts', 'word_freq_pm', 'word_freq_direct', 'word_freq_cs', 'word_freq_meeting', 'word_freq_original', 'word_freq_project', 'word_freq_re', 'word_freq_edu', 'word_freq_table', 'word_freq_conference', 'char_freq_;', 'char_freq_(', 'char_freq_[', 'char_freq_!', 'char_freq_$', 'char_freq_#', 'capital_run_length_average', 'capital_run_length_longest', 'capital_run_length_total', 'spam']\n",
    "dataset=pd.read_csv(r\"C:\\Users\\Brij\\Downloads\\spambase\\spambase.data\",  delimiter=\",\",names=columns)"
   ]
  },
  {
   "cell_type": "code",
   "execution_count": 3,
   "id": "0f11def5",
   "metadata": {},
   "outputs": [
    {
     "data": {
      "text/plain": [
       "<bound method NDFrame.head of       word_freq_make  word_freq_address  word_freq_all  word_freq_3d  \\\n",
       "0               0.00               0.64           0.64           0.0   \n",
       "1               0.21               0.28           0.50           0.0   \n",
       "2               0.06               0.00           0.71           0.0   \n",
       "3               0.00               0.00           0.00           0.0   \n",
       "4               0.00               0.00           0.00           0.0   \n",
       "...              ...                ...            ...           ...   \n",
       "4596            0.31               0.00           0.62           0.0   \n",
       "4597            0.00               0.00           0.00           0.0   \n",
       "4598            0.30               0.00           0.30           0.0   \n",
       "4599            0.96               0.00           0.00           0.0   \n",
       "4600            0.00               0.00           0.65           0.0   \n",
       "\n",
       "      word_freq_our  word_freq_over  word_freq_remove  word_freq_internet  \\\n",
       "0              0.32            0.00              0.00                0.00   \n",
       "1              0.14            0.28              0.21                0.07   \n",
       "2              1.23            0.19              0.19                0.12   \n",
       "3              0.63            0.00              0.31                0.63   \n",
       "4              0.63            0.00              0.31                0.63   \n",
       "...             ...             ...               ...                 ...   \n",
       "4596           0.00            0.31              0.00                0.00   \n",
       "4597           0.00            0.00              0.00                0.00   \n",
       "4598           0.00            0.00              0.00                0.00   \n",
       "4599           0.32            0.00              0.00                0.00   \n",
       "4600           0.00            0.00              0.00                0.00   \n",
       "\n",
       "      word_freq_order  word_freq_mail  ...  char_freq_;  char_freq_(  \\\n",
       "0                0.00            0.00  ...        0.000        0.000   \n",
       "1                0.00            0.94  ...        0.000        0.132   \n",
       "2                0.64            0.25  ...        0.010        0.143   \n",
       "3                0.31            0.63  ...        0.000        0.137   \n",
       "4                0.31            0.63  ...        0.000        0.135   \n",
       "...               ...             ...  ...          ...          ...   \n",
       "4596             0.00            0.00  ...        0.000        0.232   \n",
       "4597             0.00            0.00  ...        0.000        0.000   \n",
       "4598             0.00            0.00  ...        0.102        0.718   \n",
       "4599             0.00            0.00  ...        0.000        0.057   \n",
       "4600             0.00            0.00  ...        0.000        0.000   \n",
       "\n",
       "      char_freq_[  char_freq_!  char_freq_$  char_freq_#  \\\n",
       "0             0.0        0.778        0.000        0.000   \n",
       "1             0.0        0.372        0.180        0.048   \n",
       "2             0.0        0.276        0.184        0.010   \n",
       "3             0.0        0.137        0.000        0.000   \n",
       "4             0.0        0.135        0.000        0.000   \n",
       "...           ...          ...          ...          ...   \n",
       "4596          0.0        0.000        0.000        0.000   \n",
       "4597          0.0        0.353        0.000        0.000   \n",
       "4598          0.0        0.000        0.000        0.000   \n",
       "4599          0.0        0.000        0.000        0.000   \n",
       "4600          0.0        0.125        0.000        0.000   \n",
       "\n",
       "      capital_run_length_average  capital_run_length_longest  \\\n",
       "0                          3.756                          61   \n",
       "1                          5.114                         101   \n",
       "2                          9.821                         485   \n",
       "3                          3.537                          40   \n",
       "4                          3.537                          40   \n",
       "...                          ...                         ...   \n",
       "4596                       1.142                           3   \n",
       "4597                       1.555                           4   \n",
       "4598                       1.404                           6   \n",
       "4599                       1.147                           5   \n",
       "4600                       1.250                           5   \n",
       "\n",
       "      capital_run_length_total  spam  \n",
       "0                          278     1  \n",
       "1                         1028     1  \n",
       "2                         2259     1  \n",
       "3                          191     1  \n",
       "4                          191     1  \n",
       "...                        ...   ...  \n",
       "4596                        88     0  \n",
       "4597                        14     0  \n",
       "4598                       118     0  \n",
       "4599                        78     0  \n",
       "4600                        40     0  \n",
       "\n",
       "[4601 rows x 58 columns]>"
      ]
     },
     "execution_count": 3,
     "metadata": {},
     "output_type": "execute_result"
    }
   ],
   "source": [
    "dataset.head"
   ]
  },
  {
   "cell_type": "code",
   "execution_count": 4,
   "id": "eb166775",
   "metadata": {},
   "outputs": [],
   "source": [
    "X = dataset.iloc[:,:54].values\n",
    "y = dataset.iloc[:,57]"
   ]
  },
  {
   "cell_type": "code",
   "execution_count": 5,
   "id": "c91366a0",
   "metadata": {},
   "outputs": [
    {
     "data": {
      "text/plain": [
       "(4601, 54)"
      ]
     },
     "execution_count": 5,
     "metadata": {},
     "output_type": "execute_result"
    }
   ],
   "source": [
    "X.shape"
   ]
  },
  {
   "cell_type": "code",
   "execution_count": 6,
   "id": "137dae81",
   "metadata": {},
   "outputs": [],
   "source": [
    "X_train, X_test, y_train, y_test = train_test_split(X, y, test_size = 0.25, random_state = 0)"
   ]
  },
  {
   "cell_type": "code",
   "execution_count": 7,
   "id": "8504e127",
   "metadata": {},
   "outputs": [],
   "source": [
    "from sklearn.preprocessing import MinMaxScaler\n",
    "scaler = MinMaxScaler()\n",
    "scaler.fit(X_train)\n",
    "X_train_scaled = scaler.transform(X_train)\n",
    "X_test_scaled = scaler.transform(X_test)"
   ]
  },
  {
   "cell_type": "markdown",
   "id": "c653a682",
   "metadata": {},
   "source": [
    "## Model 1: Logistic Regression"
   ]
  },
  {
   "cell_type": "code",
   "execution_count": 8,
   "id": "94b2231d",
   "metadata": {},
   "outputs": [
    {
     "data": {
      "text/plain": [
       "LogisticRegression(max_iter=10000)"
      ]
     },
     "execution_count": 8,
     "metadata": {},
     "output_type": "execute_result"
    }
   ],
   "source": [
    "from sklearn.linear_model import LogisticRegression\n",
    "from sklearn.metrics import accuracy_score\n",
    "lr=LogisticRegression(max_iter=10000)\n",
    "lr.fit(X_train_scaled,y_train)"
   ]
  },
  {
   "cell_type": "code",
   "execution_count": 9,
   "id": "434db833",
   "metadata": {},
   "outputs": [],
   "source": [
    "pred_LG=lr.predict(X_test_scaled)\n",
    "score_LG=accuracy_score(y_test,pred_LG)"
   ]
  },
  {
   "cell_type": "code",
   "execution_count": 10,
   "id": "e009cec6",
   "metadata": {},
   "outputs": [
    {
     "data": {
      "text/plain": [
       "0.8766290182450044"
      ]
     },
     "execution_count": 10,
     "metadata": {},
     "output_type": "execute_result"
    }
   ],
   "source": [
    "score_LG"
   ]
  },
  {
   "cell_type": "markdown",
   "id": "0dd26324",
   "metadata": {},
   "source": [
    "## Model 2: Support Vector Classifier"
   ]
  },
  {
   "cell_type": "code",
   "execution_count": 11,
   "id": "fd6a9ab0",
   "metadata": {},
   "outputs": [
    {
     "data": {
      "text/plain": [
       "SVC()"
      ]
     },
     "execution_count": 11,
     "metadata": {},
     "output_type": "execute_result"
    }
   ],
   "source": [
    "from sklearn.svm import SVC\n",
    "svm=SVC()\n",
    "svm.fit(X_train_scaled,y_train)"
   ]
  },
  {
   "cell_type": "code",
   "execution_count": 12,
   "id": "56ef76f8",
   "metadata": {},
   "outputs": [],
   "source": [
    "pred_SVC=svm.predict(X_test_scaled)\n",
    "score_SVC=accuracy_score(y_test,pred_SVC)"
   ]
  },
  {
   "cell_type": "code",
   "execution_count": 13,
   "id": "f703978c",
   "metadata": {},
   "outputs": [
    {
     "data": {
      "text/plain": [
       "0.9270199826238054"
      ]
     },
     "execution_count": 13,
     "metadata": {},
     "output_type": "execute_result"
    }
   ],
   "source": [
    "score_SVC"
   ]
  },
  {
   "cell_type": "markdown",
   "id": "697297e6",
   "metadata": {},
   "source": [
    "## Model 3: Multinomial Naive Bayes"
   ]
  },
  {
   "cell_type": "code",
   "execution_count": 14,
   "id": "daaea0d5",
   "metadata": {},
   "outputs": [
    {
     "data": {
      "text/plain": [
       "MultinomialNB()"
      ]
     },
     "execution_count": 14,
     "metadata": {},
     "output_type": "execute_result"
    }
   ],
   "source": [
    "from sklearn.naive_bayes import MultinomialNB\n",
    "classifier = MultinomialNB()\n",
    "classifier.fit(X_train_scaled, y_train)"
   ]
  },
  {
   "cell_type": "code",
   "execution_count": 15,
   "id": "79cd0b5a",
   "metadata": {},
   "outputs": [],
   "source": [
    "pred_NB=classifier.predict(X_test_scaled)\n",
    "score_NB=accuracy_score(y_test,pred_NB)"
   ]
  },
  {
   "cell_type": "code",
   "execution_count": 16,
   "id": "3f45bb62",
   "metadata": {},
   "outputs": [
    {
     "data": {
      "text/plain": [
       "0.8809730668983493"
      ]
     },
     "execution_count": 16,
     "metadata": {},
     "output_type": "execute_result"
    }
   ],
   "source": [
    "score_NB"
   ]
  },
  {
   "cell_type": "markdown",
   "id": "149d0444",
   "metadata": {},
   "source": [
    "## Model 4: Decision Tree Classifier"
   ]
  },
  {
   "cell_type": "code",
   "execution_count": 17,
   "id": "d119b891",
   "metadata": {},
   "outputs": [
    {
     "data": {
      "text/plain": [
       "DecisionTreeClassifier()"
      ]
     },
     "execution_count": 17,
     "metadata": {},
     "output_type": "execute_result"
    }
   ],
   "source": [
    "from sklearn.tree import DecisionTreeClassifier\n",
    "classification = DecisionTreeClassifier()\n",
    "classification.fit(X_train_scaled,y_train)"
   ]
  },
  {
   "cell_type": "code",
   "execution_count": 18,
   "id": "a3ba05e8",
   "metadata": {},
   "outputs": [],
   "source": [
    "pred_DT = classification.predict(X_test_scaled)\n",
    "score_DT=accuracy_score(y_test,pred_DT)"
   ]
  },
  {
   "cell_type": "code",
   "execution_count": 19,
   "id": "d77730ba",
   "metadata": {},
   "outputs": [
    {
     "data": {
      "text/plain": [
       "0.9026933101650738"
      ]
     },
     "execution_count": 19,
     "metadata": {},
     "output_type": "execute_result"
    }
   ],
   "source": [
    "score_DT"
   ]
  },
  {
   "cell_type": "markdown",
   "id": "8fac3b33",
   "metadata": {},
   "source": [
    "## Model 5: KNeighbors Classifier"
   ]
  },
  {
   "cell_type": "code",
   "execution_count": 20,
   "id": "817ce552",
   "metadata": {},
   "outputs": [
    {
     "data": {
      "text/plain": [
       "KNeighborsClassifier()"
      ]
     },
     "execution_count": 20,
     "metadata": {},
     "output_type": "execute_result"
    }
   ],
   "source": [
    "from sklearn.neighbors import KNeighborsClassifier\n",
    "classifier = KNeighborsClassifier(n_neighbors = 5, metric = 'minkowski', p = 2)\n",
    "classifier.fit(X_train_scaled, y_train)"
   ]
  },
  {
   "cell_type": "code",
   "execution_count": 21,
   "id": "f11f68e2",
   "metadata": {},
   "outputs": [],
   "source": [
    "pred_KNN = classifier.predict(X_test_scaled)\n",
    "score_KNN=accuracy_score(y_test,pred_KNN)"
   ]
  },
  {
   "cell_type": "code",
   "execution_count": 22,
   "id": "f98d4790",
   "metadata": {},
   "outputs": [
    {
     "data": {
      "text/plain": [
       "0.894005212858384"
      ]
     },
     "execution_count": 22,
     "metadata": {},
     "output_type": "execute_result"
    }
   ],
   "source": [
    "score_KNN"
   ]
  },
  {
   "cell_type": "markdown",
   "id": "2d6bd317",
   "metadata": {},
   "source": [
    "## Model 6: Random Forest Classifier "
   ]
  },
  {
   "cell_type": "code",
   "execution_count": 23,
   "id": "95bcfbb2",
   "metadata": {},
   "outputs": [
    {
     "data": {
      "text/plain": [
       "RandomForestClassifier()"
      ]
     },
     "execution_count": 23,
     "metadata": {},
     "output_type": "execute_result"
    }
   ],
   "source": [
    "from sklearn.ensemble import RandomForestClassifier\n",
    "rfc=RandomForestClassifier()\n",
    "rfc.fit(X_train_scaled,y_train)"
   ]
  },
  {
   "cell_type": "code",
   "execution_count": 24,
   "id": "6f5bad96",
   "metadata": {},
   "outputs": [],
   "source": [
    "pred_RF=rfc.predict(X_test_scaled)\n",
    "score_RF=accuracy_score(y_test,pred_RF)"
   ]
  },
  {
   "cell_type": "code",
   "execution_count": 25,
   "id": "2c205705",
   "metadata": {},
   "outputs": [
    {
     "data": {
      "text/plain": [
       "0.9426585577758471"
      ]
     },
     "execution_count": 25,
     "metadata": {},
     "output_type": "execute_result"
    }
   ],
   "source": [
    "score_RF"
   ]
  },
  {
   "cell_type": "code",
   "execution_count": 26,
   "id": "37a54126",
   "metadata": {},
   "outputs": [
    {
     "name": "stdout",
     "output_type": "stream",
     "text": [
      "Accuracy Score of Machine Learning Models:\n",
      "---------------------------------------------------------------------\n",
      "Logistic Regression:        87.66 %\n",
      "Support Vector Classifier:  92.7 %\n",
      "Multinomial Naive Bayes:    88.1 %\n",
      "Decision Tree:              90.27 %\n",
      "KNeighbors Classifier:      89.4 %\n",
      "Random Forest Classifier:   94.27 %\n"
     ]
    }
   ],
   "source": [
    "print(\"Accuracy Score of Machine Learning Models:\")\n",
    "print(\"---------------------------------------------------------------------\")\n",
    "print('Logistic Regression:       ', round((score_LG * 100), 2),\"%\")\n",
    "print('Support Vector Classifier: ', round((score_SVC * 100), 2),\"%\")\n",
    "print('Multinomial Naive Bayes:   ', round((score_NB * 100), 2),\"%\")\n",
    "print('Decision Tree:             ', round((score_DT * 100), 2),\"%\")\n",
    "print('KNeighbors Classifier:     ', round((score_KNN * 100), 2),\"%\")\n",
    "print('Random Forest Classifier:  ', round((score_RF * 100), 2),\"%\")"
   ]
  },
  {
   "cell_type": "markdown",
   "id": "7c1a54b4",
   "metadata": {},
   "source": [
    "# Model using Word Embedding Layers with Deep Learning (glove)"
   ]
  },
  {
   "cell_type": "code",
   "execution_count": 27,
   "id": "8dd1a969",
   "metadata": {},
   "outputs": [],
   "source": [
    "embedding_dict={}\n",
    "f = open(r'C:\\Users\\Brij\\Downloads\\archive (1)\\glove.6B.100d.txt','r',encoding=\"utf8\")\n",
    "for line in f:\n",
    "    values=line.split()\n",
    "    word=values[0]\n",
    "    vectors=np.asarray(values[1:],'float32')\n",
    "    embedding_dict[word]=vectors\n",
    "f.close()"
   ]
  },
  {
   "cell_type": "code",
   "execution_count": 28,
   "id": "319b156d",
   "metadata": {},
   "outputs": [],
   "source": [
    "word_index = ['make', 'address', 'all', '3d', 'our', 'over', 'remove', 'internet', 'order', 'mail', 'receive', 'will', 'people', 'report', 'addresses', 'free', 'business', 'email', 'you', 'credit', 'your', 'font', '000', 'money', 'hp', 'hpl', 'george', '650', 'lab', 'labs', 'telnet', '857', 'data', '415', '85', 'technology', '1999', 'parts', 'pm', 'direct', 'cs', 'meeting', 'original', 'project', 're', 'edu', 'table', 'conference', ';', '(', '[', '!', '$', '#']"
   ]
  },
  {
   "cell_type": "code",
   "execution_count": 29,
   "id": "f588911b",
   "metadata": {},
   "outputs": [
    {
     "data": {
      "text/plain": [
       "54"
      ]
     },
     "execution_count": 29,
     "metadata": {},
     "output_type": "execute_result"
    }
   ],
   "source": [
    "len(word_index)"
   ]
  },
  {
   "cell_type": "code",
   "execution_count": 30,
   "id": "b5462eb3",
   "metadata": {},
   "outputs": [],
   "source": [
    "num_words=len(word_index)\n",
    "embedding_matrix = np.zeros((num_words, 100))\n",
    "i = 0 \n",
    "for word in word_index:\n",
    "    embedding_vector = embedding_dict.get(word)\n",
    "    if embedding_vector is not None:\n",
    "        embedding_matrix[i] = embedding_vector\n",
    "        i = i +1"
   ]
  },
  {
   "cell_type": "code",
   "execution_count": 31,
   "id": "d9a1909c",
   "metadata": {},
   "outputs": [
    {
     "name": "stdout",
     "output_type": "stream",
     "text": [
      "Model: \"sequential\"\n",
      "_________________________________________________________________\n",
      " Layer (type)                Output Shape              Param #   \n",
      "=================================================================\n",
      " embedding (Embedding)       (None, 54, 100)           5400      \n",
      "                                                                 \n",
      " flatten (Flatten)           (None, 5400)              0         \n",
      "                                                                 \n",
      " dropout (Dropout)           (None, 5400)              0         \n",
      "                                                                 \n",
      " dense (Dense)               (None, 32)                172832    \n",
      "                                                                 \n",
      " dense_1 (Dense)             (None, 1)                 33        \n",
      "                                                                 \n",
      "=================================================================\n",
      "Total params: 178,265\n",
      "Trainable params: 172,865\n",
      "Non-trainable params: 5,400\n",
      "_________________________________________________________________\n"
     ]
    }
   ],
   "source": [
    "from keras.preprocessing import sequence\n",
    "from keras.models import Sequential\n",
    "from keras.layers import Dense, Activation\n",
    "from keras.layers import Embedding\n",
    "from keras.initializers import Constant\n",
    "from keras.layers import Dense, Dropout, Embedding, LSTM, Bidirectional,Flatten\n",
    "from tensorflow.keras.layers import LSTM,Dense, Dropout, SpatialDropout1D\n",
    "import numpy as np\n",
    "model=Sequential()\n",
    "embedding=Embedding(num_words,100,embeddings_initializer=Constant(embedding_matrix),input_length=num_words,trainable=False)\n",
    "model.add(embedding)\n",
    "model.add(Flatten()),\n",
    "model.add(Dropout(0.4)),\n",
    "model.add(Dense(32)),\n",
    "model.add(Dense(1, activation='sigmoid'))\n",
    "model.compile('adam', 'binary_crossentropy', metrics=['accuracy'])\n",
    "model.summary()"
   ]
  },
  {
   "cell_type": "code",
   "execution_count": 32,
   "id": "cd88ccf4",
   "metadata": {},
   "outputs": [
    {
     "name": "stdout",
     "output_type": "stream",
     "text": [
      "Epoch 1/20\n",
      "138/138 [==============================] - 1s 4ms/step - loss: 0.6939 - accuracy: 0.7264 - val_loss: 0.3803 - val_accuracy: 0.8464\n",
      "Epoch 2/20\n",
      "138/138 [==============================] - 0s 3ms/step - loss: 0.4672 - accuracy: 0.8076 - val_loss: 0.3345 - val_accuracy: 0.8449\n",
      "Epoch 3/20\n",
      "138/138 [==============================] - 0s 3ms/step - loss: 0.3966 - accuracy: 0.8261 - val_loss: 0.3929 - val_accuracy: 0.8261\n",
      "Epoch 4/20\n",
      "138/138 [==============================] - 0s 3ms/step - loss: 0.4068 - accuracy: 0.8239 - val_loss: 0.3276 - val_accuracy: 0.8565\n",
      "Epoch 5/20\n",
      "138/138 [==============================] - 0s 3ms/step - loss: 0.3977 - accuracy: 0.8232 - val_loss: 0.3542 - val_accuracy: 0.8203\n",
      "Epoch 6/20\n",
      "138/138 [==============================] - 0s 3ms/step - loss: 0.3575 - accuracy: 0.8446 - val_loss: 0.3166 - val_accuracy: 0.8522\n",
      "Epoch 7/20\n",
      "138/138 [==============================] - 0s 3ms/step - loss: 0.3567 - accuracy: 0.8435 - val_loss: 0.3269 - val_accuracy: 0.8551\n",
      "Epoch 8/20\n",
      "138/138 [==============================] - 1s 5ms/step - loss: 0.3615 - accuracy: 0.8507 - val_loss: 0.3207 - val_accuracy: 0.8493\n",
      "Epoch 9/20\n",
      "138/138 [==============================] - 1s 5ms/step - loss: 0.3858 - accuracy: 0.8333 - val_loss: 0.3233 - val_accuracy: 0.8536\n",
      "Epoch 10/20\n",
      "138/138 [==============================] - 1s 5ms/step - loss: 0.3671 - accuracy: 0.8420 - val_loss: 0.3163 - val_accuracy: 0.8580\n",
      "Epoch 11/20\n",
      "138/138 [==============================] - 1s 4ms/step - loss: 0.3778 - accuracy: 0.8286 - val_loss: 0.3678 - val_accuracy: 0.8203\n",
      "Epoch 12/20\n",
      "138/138 [==============================] - 0s 3ms/step - loss: 0.3534 - accuracy: 0.8453 - val_loss: 0.3474 - val_accuracy: 0.8377\n",
      "Epoch 13/20\n",
      "138/138 [==============================] - 0s 3ms/step - loss: 0.3492 - accuracy: 0.8504 - val_loss: 0.3178 - val_accuracy: 0.8551\n",
      "Epoch 14/20\n",
      "138/138 [==============================] - 0s 3ms/step - loss: 0.3519 - accuracy: 0.8486 - val_loss: 0.3138 - val_accuracy: 0.8580\n",
      "Epoch 15/20\n",
      "138/138 [==============================] - 0s 3ms/step - loss: 0.3428 - accuracy: 0.8551 - val_loss: 0.3260 - val_accuracy: 0.8565\n",
      "Epoch 16/20\n",
      "138/138 [==============================] - 0s 3ms/step - loss: 0.3358 - accuracy: 0.8551 - val_loss: 0.3150 - val_accuracy: 0.8565\n",
      "Epoch 17/20\n",
      "138/138 [==============================] - 0s 3ms/step - loss: 0.3462 - accuracy: 0.8514 - val_loss: 0.3097 - val_accuracy: 0.8594\n",
      "Epoch 18/20\n",
      "138/138 [==============================] - 0s 3ms/step - loss: 0.3319 - accuracy: 0.8605 - val_loss: 0.3056 - val_accuracy: 0.8754\n",
      "Epoch 19/20\n",
      "138/138 [==============================] - 0s 3ms/step - loss: 0.3524 - accuracy: 0.8460 - val_loss: 0.3406 - val_accuracy: 0.8333\n",
      "Epoch 20/20\n",
      "138/138 [==============================] - 1s 5ms/step - loss: 0.3326 - accuracy: 0.8572 - val_loss: 0.3050 - val_accuracy: 0.8696\n"
     ]
    }
   ],
   "source": [
    "history = model.fit(X_train, y_train, batch_size=20, epochs=20, validation_split=0.2)"
   ]
  },
  {
   "cell_type": "code",
   "execution_count": 33,
   "id": "dc8aa70a",
   "metadata": {},
   "outputs": [
    {
     "name": "stdout",
     "output_type": "stream",
     "text": [
      "9/9 [==============================] - 0s 4ms/step - loss: 0.3425 - accuracy: 0.8540\n",
      "[0.3425476849079132, 0.8540399670600891]\n"
     ]
    }
   ],
   "source": [
    "result = model.evaluate(X_test, y_test, batch_size=128)\n",
    "print(result)"
   ]
  },
  {
   "cell_type": "code",
   "execution_count": 34,
   "id": "714c7661",
   "metadata": {},
   "outputs": [
    {
     "data": {
      "image/png": "[encoded data removed]",
      "text/plain": [
       "<Figure size 432x288 with 1 Axes>"
      ]
     },
     "metadata": {
      "needs_background": "light"
     },
     "output_type": "display_data"
    }
   ],
   "source": [
    "import matplotlib.pyplot as plt\n",
    "plt.plot(history.history['accuracy'])\n",
    "plt.plot(history.history['val_accuracy'])\n",
    "plt.title('model accuracy')\n",
    "plt.ylabel('accuracy')\n",
    "plt.xlabel('epoch')\n",
    "plt.legend(['Training Accuracy', 'Validation Accuracy'])\n",
    "plt.show()"
   ]
  }
 ],
 "metadata": {
  "kernelspec": {
   "display_name": "Python 3",
   "language": "python",
   "name": "python3"
  },
  "language_info": {
   "codemirror_mode": {
    "name": "ipython",
    "version": 3
   },
   "file_extension": ".py",
   "mimetype": "text/x-python",
   "name": "python",
   "nbconvert_exporter": "python",
   "pygments_lexer": "ipython3",
   "version": "3.8.8"
  }
 },
 "nbformat": 4,
 "nbformat_minor": 5
}
